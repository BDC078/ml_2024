{
 "cells": [
  {
   "cell_type": "markdown",
   "id": "0e686ef6-afb9-40a0-b3ad-7bfc699de3f0",
   "metadata": {},
   "source": [
    "# Статистические функции Python"
   ]
  },
  {
   "cell_type": "markdown",
   "id": "6fbf1277-77ca-43ab-8ba1-4d5b60913bb0",
   "metadata": {
    "tags": []
   },
   "source": [
    "Для начала разогреемся\n",
    "\n",
    "## Сравнение наборов данных\n",
    "Импортируйте данные из файла"
   ]
  },
  {
   "cell_type": "code",
   "execution_count": 2,
   "id": "174cfc21-b97b-44b1-8fa0-56dfe3aeb10c",
   "metadata": {
    "tags": []
   },
   "outputs": [],
   "source": [
    "import pandas as pd"
   ]
  },
  {
   "cell_type": "code",
   "execution_count": 3,
   "id": "329f34ff-8557-4a9b-96f3-f5f031092c2e",
   "metadata": {
    "tags": []
   },
   "outputs": [
    {
     "data": {
      "text/html": [
       "<div>\n",
       "<style scoped>\n",
       "    .dataframe tbody tr th:only-of-type {\n",
       "        vertical-align: middle;\n",
       "    }\n",
       "\n",
       "    .dataframe tbody tr th {\n",
       "        vertical-align: top;\n",
       "    }\n",
       "\n",
       "    .dataframe thead th {\n",
       "        text-align: right;\n",
       "    }\n",
       "</style>\n",
       "<table border=\"1\" class=\"dataframe\">\n",
       "  <thead>\n",
       "    <tr style=\"text-align: right;\">\n",
       "      <th></th>\n",
       "      <th>x1</th>\n",
       "      <th>y1</th>\n",
       "      <th>x2</th>\n",
       "      <th>y2</th>\n",
       "      <th>x3</th>\n",
       "      <th>y3</th>\n",
       "      <th>x4</th>\n",
       "      <th>y4</th>\n",
       "    </tr>\n",
       "  </thead>\n",
       "  <tbody>\n",
       "    <tr>\n",
       "      <th>0</th>\n",
       "      <td>10</td>\n",
       "      <td>8.04</td>\n",
       "      <td>10</td>\n",
       "      <td>9.14</td>\n",
       "      <td>10</td>\n",
       "      <td>7.46</td>\n",
       "      <td>8</td>\n",
       "      <td>6.58</td>\n",
       "    </tr>\n",
       "    <tr>\n",
       "      <th>1</th>\n",
       "      <td>8</td>\n",
       "      <td>6.95</td>\n",
       "      <td>8</td>\n",
       "      <td>8.14</td>\n",
       "      <td>8</td>\n",
       "      <td>6.77</td>\n",
       "      <td>8</td>\n",
       "      <td>5.76</td>\n",
       "    </tr>\n",
       "    <tr>\n",
       "      <th>2</th>\n",
       "      <td>13</td>\n",
       "      <td>7.58</td>\n",
       "      <td>13</td>\n",
       "      <td>8.74</td>\n",
       "      <td>13</td>\n",
       "      <td>12.74</td>\n",
       "      <td>8</td>\n",
       "      <td>7.71</td>\n",
       "    </tr>\n",
       "    <tr>\n",
       "      <th>3</th>\n",
       "      <td>9</td>\n",
       "      <td>8.81</td>\n",
       "      <td>9</td>\n",
       "      <td>8.77</td>\n",
       "      <td>9</td>\n",
       "      <td>7.11</td>\n",
       "      <td>8</td>\n",
       "      <td>8.84</td>\n",
       "    </tr>\n",
       "    <tr>\n",
       "      <th>4</th>\n",
       "      <td>11</td>\n",
       "      <td>8.33</td>\n",
       "      <td>11</td>\n",
       "      <td>9.26</td>\n",
       "      <td>11</td>\n",
       "      <td>7.81</td>\n",
       "      <td>8</td>\n",
       "      <td>8.47</td>\n",
       "    </tr>\n",
       "  </tbody>\n",
       "</table>\n",
       "</div>"
      ],
      "text/plain": [
       "   x1    y1  x2    y2  x3     y3  x4    y4\n",
       "0  10  8.04  10  9.14  10   7.46   8  6.58\n",
       "1   8  6.95   8  8.14   8   6.77   8  5.76\n",
       "2  13  7.58  13  8.74  13  12.74   8  7.71\n",
       "3   9  8.81   9  8.77   9   7.11   8  8.84\n",
       "4  11  8.33  11  9.26  11   7.81   8  8.47"
      ]
     },
     "execution_count": 3,
     "metadata": {},
     "output_type": "execute_result"
    }
   ],
   "source": [
    "df = pd.read_csv('datasets.csv', sep=';')\n",
    "df.head()"
   ]
  },
  {
   "cell_type": "markdown",
   "id": "738038f2-1d13-4611-ae07-230e00df550b",
   "metadata": {},
   "source": [
    "Давайте посмотрим на среднее"
   ]
  },
  {
   "cell_type": "markdown",
   "id": "fd168c1e-5c07-4c06-be64-c072e98b93c1",
   "metadata": {},
   "source": [
    "А теперь на среднеквадратичное отклонение"
   ]
  },
  {
   "cell_type": "code",
   "execution_count": null,
   "id": "8443943a-bfbf-4664-8abd-7068b5ed9a11",
   "metadata": {},
   "outputs": [],
   "source": []
  },
  {
   "cell_type": "markdown",
   "id": "233fc5b7-0ee0-4b10-865a-36c2d3f418d8",
   "metadata": {
    "tags": []
   },
   "source": [
    "## Биномиальное распределение\n",
    "\n",
    "Давайте предположим, что мы хотим провести эксперимент с новым лекарственным препаратом"
   ]
  },
  {
   "cell_type": "code",
   "execution_count": 4,
   "id": "6325179b-9601-46f6-9e69-9a64ef039ca3",
   "metadata": {
    "tags": []
   },
   "outputs": [],
   "source": [
    "# импорт необходимых библиотек\n",
    "import numpy as np\n",
    "from scipy.stats import binom\n",
    "import matplotlib.pyplot as plt\n",
    "from matplotlib.pyplot import xticks"
   ]
  },
  {
   "cell_type": "markdown",
   "id": "4cc6cffe-6b19-4a8d-b6b5-20928e78a50f",
   "metadata": {},
   "source": [
    "Предположим, у нас есть препарат, который излечивает людей с вероятностью 50%. Т.е. конверсия в здорового человека 0.5."
   ]
  },
  {
   "cell_type": "code",
   "execution_count": 24,
   "id": "322fef07-50dc-4ae5-90ca-4a9d6f2b1d12",
   "metadata": {
    "tags": []
   },
   "outputs": [],
   "source": [
    "current_pill_efficiency = 0.5"
   ]
  },
  {
   "cell_type": "markdown",
   "id": "5056b0bc-8542-4f65-91ed-8bc0fa29b5f2",
   "metadata": {},
   "source": [
    "И теперь мы разработали новый препарат, который был протестирован на N пациентах и вот какие результаты мы получили (`1`-вылечили, `0`-не вылечили):"
   ]
  },
  {
   "cell_type": "code",
   "execution_count": 25,
   "id": "c73162e7-7d18-4249-aeb6-1db9454a93a3",
   "metadata": {
    "tags": []
   },
   "outputs": [],
   "source": [
    "new_pill_efficiency = [1,1,1,0,1,0,1,0,1,0,1,0,1,1,0,0,0,1,1,1,1,1,0,0,0,0,0,1,0,1,1,0,1,0,0,0,0,1,1,1,1,1,1,1,1,0,1,1,1,1,0,1,0,1,1,1,0,0,0,1]"
   ]
  },
  {
   "cell_type": "markdown",
   "id": "589f169e-c290-4f32-8483-442452ee4c59",
   "metadata": {},
   "source": [
    "Давайте посчитаем конверсию"
   ]
  },
  {
   "cell_type": "code",
   "execution_count": 26,
   "id": "b73dafe9-88a0-4b43-8ad3-7ef9de485f33",
   "metadata": {
    "tags": []
   },
   "outputs": [
    {
     "name": "stdout",
     "output_type": "stream",
     "text": [
      "35 conversions out of 60\n"
     ]
    }
   ],
   "source": [
    "print(f'{sum(new_pill_efficiency)} conversions out of {len(new_pill_efficiency)}')"
   ]
  },
  {
   "cell_type": "code",
   "execution_count": 27,
   "id": "9b36254c-0db4-4d64-8b7f-41548f08ceb6",
   "metadata": {
    "tags": []
   },
   "outputs": [
    {
     "name": "stdout",
     "output_type": "stream",
     "text": [
      "new pill conversion efficiency is 0.5833333333333334\n"
     ]
    }
   ],
   "source": [
    "print(f'new pill conversion efficiency is {sum(new_pill_efficiency)/len(new_pill_efficiency)}')"
   ]
  },
  {
   "cell_type": "markdown",
   "id": "396b0484-0eb0-495f-a29b-c82554e94686",
   "metadata": {},
   "source": [
    "А как понять, статистически значимое это отклонение или нет?"
   ]
  },
  {
   "cell_type": "markdown",
   "id": "bedeefb8-6ee4-43e7-a390-207a33503918",
   "metadata": {},
   "source": [
    "Для начала давайте визуализируем биномиальное распределение c характеристиками \n",
    "- `n = 60`\n",
    "- `p = 0.5`"
   ]
  },
  {
   "cell_type": "code",
   "execution_count": 9,
   "id": "6d46a6f9-e96d-414d-aa1a-87ade5ca1208",
   "metadata": {
    "tags": []
   },
   "outputs": [
    {
     "data": {
      "image/png": "[encoded data removed]",
      "text/plain": [
       "<Figure size 800x600 with 1 Axes>"
      ]
     },
     "metadata": {},
     "output_type": "display_data"
    }
   ],
   "source": [
    "n, p = 60, 0.5\n",
    "x = [i for i in range(61)]\n",
    "fig, ax = plt.subplots(1, 1,figsize=(8, 6));\n",
    "ax.plot(x, binom.pmf(x, n, p), 'bo', label='binom pmf');\n",
    "ax.vlines(x, 0, binom.pmf(x, n, p), colors='b', lw=5, alpha=0.5);\n",
    "locs, labels = xticks();\n",
    "xticks(np.arange(61));"
   ]
  },
  {
   "cell_type": "markdown",
   "id": "8f35198c-bbd8-4573-ad3b-f6d93d2d1669",
   "metadata": {},
   "source": [
    "А теперь посмотрим на кумулятивную функцию распределения. Ответим на вопрос, чему равна вероятность, что функция от случайной величины примет значение равное или меньшее x.\n",
    "\n",
    "Посмотрим на функцию распределения"
   ]
  },
  {
   "cell_type": "code",
   "execution_count": 10,
   "id": "111e7a41-4d25-45cb-865c-7cea65982f06",
   "metadata": {
    "tags": []
   },
   "outputs": [
    {
     "data": {
      "image/png": "[encoded data removed]",
      "text/plain": [
       "<Figure size 800x600 with 1 Axes>"
      ]
     },
     "metadata": {},
     "output_type": "display_data"
    }
   ],
   "source": [
    "n, p = 60, 0.5\n",
    "x = [i for i in range(61)]\n",
    "fig, ax = plt.subplots(1, 1,figsize=(8, 6));\n",
    "ax.plot(x, binom.cdf(x, n, p), 'bo', label='binom pmf');\n",
    "ax.vlines(x, 0, binom.cdf(x, n, p), colors='b', lw=5, alpha=0.5);\n",
    "locs, labels = xticks();\n",
    "xticks(np.arange(61));"
   ]
  },
  {
   "cell_type": "code",
   "execution_count": 11,
   "id": "4cd382fc-863a-40d5-8b17-030d5548d29c",
   "metadata": {
    "tags": []
   },
   "outputs": [
    {
     "name": "stdout",
     "output_type": "stream",
     "text": [
      "0.9224990479983697\n",
      "0.07750095200163032\n"
     ]
    }
   ],
   "source": [
    "print(binom.cdf(k=35,n=60,p=0.5))\n",
    "print(1 - binom.cdf(k=35,n=60,p=0.5))"
   ]
  },
  {
   "cell_type": "markdown",
   "id": "25961fb6-f6b3-4164-ba25-044a8b0ef125",
   "metadata": {},
   "source": [
    "В статистике принято брать критерий `альфа = 5%`, чему в этом случае будет равно `x` Воспользуемся квантилями - значение, которое случайная величина не превышает с вероятностью p. Нас интересует квантиль `0,05`. При помощи функции `ppf` посчитайте значение `x`, чтобы вероятность случайной величины, распределенной по биномиальному распределению, быть большей или равной `x`, была равна `0,05`."
   ]
  },
  {
   "cell_type": "code",
   "execution_count": 28,
   "id": "5c3ad3a1-8ff7-4946-8801-8a2002ce87db",
   "metadata": {
    "tags": []
   },
   "outputs": [
    {
     "data": {
      "text/plain": [
       "\u001b[1;31mSignature:\u001b[0m \u001b[0mbinom\u001b[0m\u001b[1;33m.\u001b[0m\u001b[0mppf\u001b[0m\u001b[1;33m(\u001b[0m\u001b[0mq\u001b[0m\u001b[1;33m,\u001b[0m \u001b[1;33m*\u001b[0m\u001b[0margs\u001b[0m\u001b[1;33m,\u001b[0m \u001b[1;33m**\u001b[0m\u001b[0mkwds\u001b[0m\u001b[1;33m)\u001b[0m\u001b[1;33m\u001b[0m\u001b[1;33m\u001b[0m\u001b[0m\n",
       "\u001b[1;31mDocstring:\u001b[0m\n",
       "Percent point function (inverse of `cdf`) at q of the given RV.\n",
       "\n",
       "Parameters\n",
       "----------\n",
       "q : array_like\n",
       "    Lower tail probability.\n",
       "arg1, arg2, arg3,... : array_like\n",
       "    The shape parameter(s) for the distribution (see docstring of the\n",
       "    instance object for more information).\n",
       "loc : array_like, optional\n",
       "    Location parameter (default=0).\n",
       "\n",
       "Returns\n",
       "-------\n",
       "k : array_like\n",
       "    Quantile corresponding to the lower tail probability, q.\n",
       "\u001b[1;31mFile:\u001b[0m      c:\\users\\user\\desktop\\шарага\\1 сем\\ml\\ml_2024\\.venv\\lib\\site-packages\\scipy\\stats\\_distn_infrastructure.py\n",
       "\u001b[1;31mType:\u001b[0m      method"
      ]
     },
     "metadata": {},
     "output_type": "display_data"
    }
   ],
   "source": [
    "binom.ppf?"
   ]
  },
  {
   "cell_type": "code",
   "execution_count": 29,
   "id": "7e367cfa-9a84-4665-bed5-f1fbdd49ca15",
   "metadata": {
    "tags": []
   },
   "outputs": [
    {
     "data": {
      "text/plain": [
       "np.float64(36.0)"
      ]
     },
     "execution_count": 29,
     "metadata": {},
     "output_type": "execute_result"
    }
   ],
   "source": [
    "binom.ppf(0.95, n=60, p=0.5)"
   ]
  },
  {
   "cell_type": "markdown",
   "id": "cfb80f19-d8b0-4844-a36d-15c4f39d23f3",
   "metadata": {},
   "source": [
    "а есть ли специфика работы с дискретным распределением?\n",
    "в данном случае мы будем говорить, что не будет превышения с вероятностью хотя бы p"
   ]
  },
  {
   "cell_type": "code",
   "execution_count": 30,
   "id": "b3827ad4-e36f-4eec-893d-5f8e6b6ed4e5",
   "metadata": {
    "tags": []
   },
   "outputs": [
    {
     "name": "stdout",
     "output_type": "stream",
     "text": [
      "36.0\n"
     ]
    }
   ],
   "source": [
    "alpha_max = 0.05\n",
    "\n",
    "x = binom.ppf(1-alpha_max, n=60, p=0.5)\n",
    "print(x)"
   ]
  },
  {
   "cell_type": "markdown",
   "id": "bcbaa3d0-37c4-4bb1-8525-1c8ed811bf17",
   "metadata": {},
   "source": [
    "Вероятность получить 36+ не превышает 5%"
   ]
  },
  {
   "cell_type": "code",
   "execution_count": 31,
   "id": "c6d32765-09f9-4b55-a485-eac462f32b7d",
   "metadata": {
    "tags": []
   },
   "outputs": [
    {
     "data": {
      "text/plain": [
       "np.float64(37.0)"
      ]
     },
     "execution_count": 31,
     "metadata": {},
     "output_type": "execute_result"
    }
   ],
   "source": [
    "critical_value = binom.ppf(1-alpha_max, n=60, p=0.5) + 1\n",
    "critical_value"
   ]
  },
  {
   "cell_type": "markdown",
   "id": "5792bbb7-8726-4fb7-8a22-43ec4254b252",
   "metadata": {},
   "source": [
    "И теперь давайте создадим наш критерий!"
   ]
  },
  {
   "cell_type": "code",
   "execution_count": 16,
   "id": "3612349b-7b70-4477-94bb-4dd3a58b14b9",
   "metadata": {
    "tags": []
   },
   "outputs": [],
   "source": [
    "def get_binom_criterion(n,mu=0.5,alpha=0.05):\n",
    "    '''Формирует критерий\n",
    "    \n",
    "    Параметры:\n",
    "        n: количество пациентов в эксперименте\n",
    "        mu: вероятность вылечить\n",
    "        alpha: уровень значимости криетерия\n",
    "        \n",
    "    Возвращает:\n",
    "        Значение критерия\n",
    "        \n",
    "    '''\n",
    "    binom_h0 = binom(n=n,p=mu)\n",
    "    c = binom_h0.ppf(1-alpha)\n",
    "    return c+1"
   ]
  },
  {
   "cell_type": "code",
   "execution_count": 17,
   "id": "96429d1d-a3cf-4226-9041-e780f545127c",
   "metadata": {
    "tags": []
   },
   "outputs": [
    {
     "name": "stdout",
     "output_type": "stream",
     "text": [
      "if C>= 37.0 then reject H0\n"
     ]
    }
   ],
   "source": [
    "print(f'if C>=',get_binom_criterion(n=60,mu=0.5,alpha=0.05), 'then reject H0')"
   ]
  },
  {
   "cell_type": "markdown",
   "id": "16478fa4-f030-4a27-aa73-730c01277b60",
   "metadata": {},
   "source": [
    "А теперь давайте скорректируем наши вводные"
   ]
  },
  {
   "cell_type": "code",
   "execution_count": 18,
   "id": "4a36d85e-c823-4193-8a19-24c11bb96f7d",
   "metadata": {
    "tags": []
   },
   "outputs": [],
   "source": [
    "binom_h0 = binom(\n",
    "    n=60,\n",
    "    p=0.2\n",
    ")"
   ]
  },
  {
   "cell_type": "code",
   "execution_count": 19,
   "id": "4eac222f-6518-4d26-8aa3-8578768589b4",
   "metadata": {
    "tags": []
   },
   "outputs": [
    {
     "data": {
      "text/plain": [
       "16"
      ]
     },
     "execution_count": 19,
     "metadata": {},
     "output_type": "execute_result"
    }
   ],
   "source": [
    "binom_h0.rvs()"
   ]
  },
  {
   "cell_type": "markdown",
   "id": "04284067-647d-4e5d-9663-05dd4deb6158",
   "metadata": {},
   "source": [
    "График распределения"
   ]
  },
  {
   "cell_type": "code",
   "execution_count": 20,
   "id": "8a4e7fdf-fc55-49e1-b125-e4d93f233899",
   "metadata": {
    "tags": []
   },
   "outputs": [
    {
     "data": {
      "image/png": "[encoded data removed]",
      "text/plain": [
       "<Figure size 800x600 with 1 Axes>"
      ]
     },
     "metadata": {},
     "output_type": "display_data"
    }
   ],
   "source": [
    "n, p = 60, 0.2\n",
    "x = [i for i in range(61)]\n",
    "fig, ax = plt.subplots(1, 1,figsize=(8, 6));\n",
    "ax.plot(x, binom.pmf(x, n, p), 'bo', label='binom pmf');\n",
    "ax.vlines(x, 0, binom.pmf(x, n, p), colors='b', lw=5, alpha=0.5);\n",
    "locs, labels = xticks();\n",
    "xticks(np.arange(61));"
   ]
  },
  {
   "cell_type": "code",
   "execution_count": 21,
   "id": "b42808e3-f144-40da-abe1-7e8796f80fd9",
   "metadata": {
    "tags": []
   },
   "outputs": [
    {
     "name": "stdout",
     "output_type": "stream",
     "text": [
      "if C>= 18.0 then reject H0\n"
     ]
    }
   ],
   "source": [
    "print(f'if C>=',get_binom_criterion(n=60,mu=0.2,alpha=0.05), 'then reject H0')"
   ]
  },
  {
   "cell_type": "markdown",
   "id": "0040e078-ca9d-4f73-8356-9299827accfa",
   "metadata": {
    "tags": []
   },
   "source": [
    "А теперь давайте унифицируем расчеты и перейдем к p-value"
   ]
  },
  {
   "cell_type": "code",
   "execution_count": 22,
   "id": "ed0b88e0-9f92-4aa2-baf3-a724f0539c7c",
   "metadata": {
    "tags": []
   },
   "outputs": [],
   "source": [
    "def p_value_binom(n,q,mu=0.5):\n",
    "    ''' Считает p-value\n",
    "    \n",
    "    Параметры:\n",
    "        n: количество пациентов\n",
    "        q: количество выздоровевших\n",
    "    \n",
    "    Возвращает:\n",
    "        p-value для критерия\n",
    "    '''\n",
    "    \n",
    "    binom_h0 = binom(n=n,p=mu)\n",
    "    return 1 - binom_h0.cdf(q-1)"
   ]
  },
  {
   "cell_type": "code",
   "execution_count": 23,
   "id": "5a4f36e2-92d8-40bb-9efe-19f735627bae",
   "metadata": {
    "tags": []
   },
   "outputs": [
    {
     "name": "stdout",
     "output_type": "stream",
     "text": [
      "if 0.04623 <= alpha, then reject H0\n"
     ]
    }
   ],
   "source": [
    "print(f'if {p_value_binom(n=60,mu=0.5,q=37):0.5} <= alpha, then reject H0')"
   ]
  },
  {
   "cell_type": "markdown",
   "id": "1c083589-e321-4c14-84b4-d2732d38496f",
   "metadata": {},
   "source": [
    "## Работа с ростом"
   ]
  },
  {
   "cell_type": "code",
   "execution_count": null,
   "id": "eb90501b-5bae-4b00-b42a-d9ae6a7cdcf0",
   "metadata": {},
   "outputs": [],
   "source": []
  }
 ],
 "metadata": {
  "kernelspec": {
   "display_name": "Python 3 (ipykernel)",
   "language": "python",
   "name": "python3"
  },
  "language_info": {
   "codemirror_mode": {
    "name": "ipython",
    "version": 3
   },
   "file_extension": ".py",
   "mimetype": "text/x-python",
   "name": "python",
   "nbconvert_exporter": "python",
   "pygments_lexer": "ipython3",
   "version": "3.12.5"
  }
 },
 "nbformat": 4,
 "nbformat_minor": 5
}
